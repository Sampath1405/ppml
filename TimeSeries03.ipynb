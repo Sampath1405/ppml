{
 "cells": [
  {
   "cell_type": "code",
   "execution_count": 1,
   "id": "e73fa9d4",
   "metadata": {},
   "outputs": [
    {
     "name": "stdout",
     "output_type": "stream",
     "text": [
      "Date Index \n",
      " 2011-01-02    0.112005\n",
      "2011-01-05   -1.861951\n",
      "2011-01-07    0.255939\n",
      "2011-01-08   -0.355623\n",
      "2011-01-10    0.483160\n",
      "2011-01-12   -0.299427\n",
      "dtype: float64\n"
     ]
    }
   ],
   "source": [
    "import pandas as pd\n",
    "import numpy as np\n",
    "from datetime import datetime\n",
    "\n",
    "#create a date variable that contains the dates\n",
    "dates = [datetime(2011, 1, 2),\n",
    "datetime(2011, 1, 5),\n",
    "datetime(2011, 1, 7),\n",
    "datetime(2011, 1, 8),\n",
    "datetime(2011, 1, 10),\n",
    "datetime(2011, 1, 12)]\n",
    "\n",
    "#with this date object, create a series\n",
    "ts = pd.Series(np.random.randn(6), index=dates)\n",
    "print(\"Date Index \\n\",ts)"
   ]
  },
  {
   "cell_type": "code",
   "execution_count": 2,
   "id": "6ae2842d",
   "metadata": {},
   "outputs": [
    {
     "name": "stdout",
     "output_type": "stream",
     "text": [
      "\n",
      "Date Index alone from the series:  DatetimeIndex(['2011-01-02', '2011-01-05', '2011-01-07', '2011-01-08',\n",
      "               '2011-01-10', '2011-01-12'],\n",
      "              dtype='datetime64[ns]', freq=None)\n"
     ]
    }
   ],
   "source": [
    "print(\"\\nDate Index alone from the series: \",ts.index)"
   ]
  },
  {
   "cell_type": "code",
   "execution_count": 3,
   "id": "f6feee14",
   "metadata": {},
   "outputs": [
    {
     "name": "stdout",
     "output_type": "stream",
     "text": [
      "\n",
      "Second index:\n",
      " 2011-01-07 00:00:00\n"
     ]
    }
   ],
   "source": [
    "stamp=ts.index[2]\n",
    "print(\"\\nSecond index:\\n\", stamp)"
   ]
  },
  {
   "cell_type": "code",
   "execution_count": 4,
   "id": "d0e26e09",
   "metadata": {},
   "outputs": [
    {
     "name": "stdout",
     "output_type": "stream",
     "text": [
      "\n",
      "Daterange up to 1000 days:\n",
      " 2000-01-01    0.660703\n",
      "2000-01-02   -0.612415\n",
      "2000-01-03    0.476774\n",
      "2000-01-04    1.200795\n",
      "2000-01-05   -0.898678\n",
      "                ...   \n",
      "2002-09-22    0.118416\n",
      "2002-09-23   -0.386432\n",
      "2002-09-24    1.454688\n",
      "2002-09-25    0.340341\n",
      "2002-09-26    0.240658\n",
      "Freq: D, Length: 1000, dtype: float64\n"
     ]
    }
   ],
   "source": [
    "#play like a ball with long-times series\n",
    "longer_ts=pd.Series(np.random.randn(1000),\n",
    "index=pd.date_range(\"2000-01-01\",periods=1000))\n",
    "print(\"\\nDaterange up to 1000 days:\\n\",longer_ts)"
   ]
  },
  {
   "cell_type": "code",
   "execution_count": 6,
   "id": "60fd8c5f",
   "metadata": {},
   "outputs": [
    {
     "name": "stdout",
     "output_type": "stream",
     "text": [
      "\n",
      "Date range-2001 year:\n",
      " 2001-01-01   -0.240030\n",
      "2001-01-02    2.421156\n",
      "2001-01-03   -2.987387\n",
      "2001-01-04   -0.632986\n",
      "2001-01-05    0.323282\n",
      "                ...   \n",
      "2001-12-27    1.217855\n",
      "2001-12-28    0.897152\n",
      "2001-12-29    0.316389\n",
      "2001-12-30    1.558155\n",
      "2001-12-31   -0.489021\n",
      "Freq: D, Length: 365, dtype: float64\n"
     ]
    }
   ],
   "source": [
    "print(\"\\nDate range-2001 year:\\n\", longer_ts[\"2001\"])"
   ]
  },
  {
   "cell_type": "code",
   "execution_count": 8,
   "id": "87d52a0c",
   "metadata": {},
   "outputs": [
    {
     "name": "stdout",
     "output_type": "stream",
     "text": [
      "\n",
      "Date range-05 month 2001 year:\n",
      " 2001-05-01   -0.298999\n",
      "2001-05-02    0.441584\n",
      "2001-05-03    1.073529\n",
      "2001-05-04    0.773411\n",
      "2001-05-05   -1.450116\n",
      "2001-05-06   -0.604785\n",
      "2001-05-07    1.582796\n",
      "2001-05-08   -0.561200\n",
      "2001-05-09   -0.318832\n",
      "2001-05-10   -0.400325\n",
      "2001-05-11   -0.749633\n",
      "2001-05-12    1.163200\n",
      "2001-05-13   -0.844594\n",
      "2001-05-14    0.560873\n",
      "2001-05-15   -1.161660\n",
      "2001-05-16    1.286326\n",
      "2001-05-17    0.101008\n",
      "2001-05-18   -0.444232\n",
      "2001-05-19   -0.758373\n",
      "2001-05-20   -0.847374\n",
      "2001-05-21   -0.076626\n",
      "2001-05-22   -1.216501\n",
      "2001-05-23    2.698857\n",
      "2001-05-24   -0.372065\n",
      "2001-05-25    0.461427\n",
      "2001-05-26   -0.199499\n",
      "2001-05-27    1.189969\n",
      "2001-05-28    0.417951\n",
      "2001-05-29    0.032341\n",
      "2001-05-30   -0.118526\n",
      "2001-05-31   -1.067347\n",
      "Freq: D, dtype: float64\n"
     ]
    }
   ],
   "source": [
    "print(\"\\nDate range-05 month 2001 year:\\n\", longer_ts[\"2001-05\"])"
   ]
  },
  {
   "cell_type": "code",
   "execution_count": 9,
   "id": "2d7f7345",
   "metadata": {},
   "outputs": [
    {
     "name": "stdout",
     "output_type": "stream",
     "text": [
      "\n",
      "Date range-first few dates in 2000 year:\n",
      " 2000-01-01    0.660703\n",
      "2000-01-02   -0.612415\n",
      "2000-01-03    0.476774\n",
      "2000-01-04    1.200795\n",
      "2000-01-05   -0.898678\n",
      "Freq: D, dtype: float64\n"
     ]
    }
   ],
   "source": [
    "print(\"\\nDate range-first few dates in 2000 year:\\n\",longer_ts[\"2000\"].head())"
   ]
  },
  {
   "cell_type": "code",
   "execution_count": 10,
   "id": "429acb31",
   "metadata": {},
   "outputs": [
    {
     "name": "stdout",
     "output_type": "stream",
     "text": [
      "\n",
      "Date range-first 15 dates in 02 month 2001 year:\n",
      " 2000-02-01   -0.201693\n",
      "2000-02-02   -0.701243\n",
      "2000-02-03   -0.318727\n",
      "2000-02-04   -0.265773\n",
      "2000-02-05   -0.196826\n",
      "2000-02-06    0.425311\n",
      "2000-02-07    1.399413\n",
      "2000-02-08    1.334175\n",
      "2000-02-09    0.333356\n",
      "2000-02-10   -0.060426\n",
      "2000-02-11   -0.362374\n",
      "2000-02-12   -0.620922\n",
      "2000-02-13   -0.196599\n",
      "2000-02-14   -1.481911\n",
      "2000-02-15   -1.963489\n",
      "Freq: D, dtype: float64\n"
     ]
    }
   ],
   "source": [
    "print(\"\\nDate range-first 15 dates in 02 month 2001 year:\\n\",longer_ts[\"2000-02\"].head(15))"
   ]
  },
  {
   "cell_type": "code",
   "execution_count": 11,
   "id": "8cdc947d",
   "metadata": {},
   "outputs": [
    {
     "name": "stdout",
     "output_type": "stream",
     "text": [
      "\n",
      "Date range-rom 26-9-2001:\n",
      " 2000-09-26    0.032824\n",
      "2000-09-27   -1.239122\n",
      "2000-09-28   -0.092667\n",
      "2000-09-29   -1.103922\n",
      "2000-09-30   -1.620268\n",
      "                ...   \n",
      "2002-09-22    0.118416\n",
      "2002-09-23   -0.386432\n",
      "2002-09-24    1.454688\n",
      "2002-09-25    0.340341\n",
      "2002-09-26    0.240658\n",
      "Freq: D, Length: 731, dtype: float64\n"
     ]
    }
   ],
   "source": [
    "print(\"\\nDate range-rom 26-9-2001:\\n\",longer_ts[datetime(2000,9,26):])"
   ]
  },
  {
   "cell_type": "code",
   "execution_count": null,
   "id": "e2240df2",
   "metadata": {},
   "outputs": [],
   "source": []
  }
 ],
 "metadata": {
  "kernelspec": {
   "display_name": "Python 3 (ipykernel)",
   "language": "python",
   "name": "python3"
  },
  "language_info": {
   "codemirror_mode": {
    "name": "ipython",
    "version": 3
   },
   "file_extension": ".py",
   "mimetype": "text/x-python",
   "name": "python",
   "nbconvert_exporter": "python",
   "pygments_lexer": "ipython3",
   "version": "3.11.3"
  }
 },
 "nbformat": 4,
 "nbformat_minor": 5
}
